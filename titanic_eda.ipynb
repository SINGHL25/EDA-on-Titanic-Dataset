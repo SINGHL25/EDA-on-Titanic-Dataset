# Titanic EDA Notebook

import pandas as pd
import numpy as np
import seaborn as sns
import matplotlib.pyplot as plt

# Load dataset
df = pd.read_csv("../data/titanic.csv")

# Basic info
print(df.head())
print(df.info())
print(df.describe())

# Survival count
sns.countplot(data=df, x='Survived')
plt.title("Survival Count")
plt.savefig("../images/survival_count.png")
plt.show()

# Survival by gender
sns.countplot(data=df, x='Sex', hue='Survived')
plt.title("Survival by Gender")
plt.savefig("../images/survival_by_gender.png")
plt.show()
